{
 "cells": [
  {
   "cell_type": "code",
   "execution_count": 16,
   "metadata": {},
   "outputs": [],
   "source": [
    "import requests \n",
    "from bs4 import BeautifulSoup\n",
    "import pandas as pd\n",
    "from tqdm import tqdm\n",
    "import os \n",
    "\n",
    "\n",
    "# os.mkdir('rent_data')"
   ]
  },
  {
   "cell_type": "code",
   "execution_count": 17,
   "metadata": {},
   "outputs": [],
   "source": [
    "def url_to_html(url):\n",
    "    # returns html soup\n",
    "    html = requests.get(url)\n",
    "    soup = BeautifulSoup(html.text, 'html.parser')\n",
    "    return soup "
   ]
  },
  {
   "cell_type": "code",
   "execution_count": 18,
   "metadata": {},
   "outputs": [],
   "source": [
    "def get_regions():\n",
    "    url = \"https://www.rightmove.co.uk/london-popular-regions.html\"\n",
    "    soup = url_to_html(url)\n",
    "    regions =  []\n",
    "    for li in soup.findAll(\"div\", {\"class\": \"primarycontent\"})[0].findAll(\"li\"):\n",
    "        regions.append(li.find(\"a\").string)\n",
    "    regions = [i.split(' property')[0] for ind, i in enumerate(regions) if ind%3 == 0]\n",
    "    regions = ['-'.join(i.split(' ')) for i in regions]\n",
    "    return regions"
   ]
  },
  {
   "cell_type": "code",
   "execution_count": 19,
   "metadata": {},
   "outputs": [],
   "source": [
    "def get_property_ids(region, ind):\n",
    "\n",
    "    ## try except stuff for non existant pages\n",
    "    index = ind*24\n",
    "    region_url = f\"https://www.rightmove.co.uk/property-for-rent/{region}.html?index={index}&\"\n",
    "\n",
    "    soup = url_to_html(region_url)\n",
    "\n",
    "    property_ids = []\n",
    "    cards = soup.find(id = \"l-searchResults\")\n",
    "    for card in cards.findAll(\"div\", {\"class\":\"l-searchResult\"}):\n",
    "        property_ids.append(card[\"id\"].split('-')[1])\n",
    "    property_ids = property_ids[1:] ## ignore the first \n",
    "    property_ids = [id for id in property_ids if id != '0'] ## drop non existant ones\n",
    "    return property_ids"
   ]
  },
  {
   "cell_type": "code",
   "execution_count": 20,
   "metadata": {},
   "outputs": [],
   "source": [
    "def get_attributes(property_ids, region):\n",
    "    infos = []\n",
    "    for property_id in property_ids:\n",
    "        \n",
    "        property_url = f\"https://www.rightmove.co.uk/properties/{property_id}#/?channel=RES_LET\"\n",
    "        \n",
    "        soup = url_to_html(property_url)\n",
    "        info_reel = soup.find(\"div\", {\"data-test\": \"infoReel\"})\n",
    "        ps = info_reel.findAll(\"p\")\n",
    "        \n",
    "        # type\n",
    "        type = ps[0].string\n",
    "\n",
    "        # square metres \n",
    "        if len(ps) == 6:\n",
    "            try: \n",
    "                square_metres = int(ps[4].string.split(\"(\")[1].split(\" sq\")[0])\n",
    "            except ValueError:\n",
    "                try:\n",
    "                    square_metres = ps[4].string.split(\"(\")[1].split(\" sq\")[0]\n",
    "                    square_metres = square_metres = int(''.join(i for i in square_metres if i.isdigit()))\n",
    "                except ValueError: \n",
    "                    square_metres = (\n",
    "                        (int(ps[4].split(\"(\")[1].split(\" sq\")[0].split('-')[0])\n",
    "                        + int(ps[4].split(\"(\")[1].split(\" sq\")[0].split('-')[1])\n",
    "                        ) / 2\n",
    "                    )\n",
    "        else:\n",
    "            square_metres = None\n",
    "        \n",
    "        # beds\n",
    "        try: \n",
    "            beds = ps[1].string.split('x')[0]\n",
    "        except IndexError:\n",
    "            try: \n",
    "                beds = ps[1]\n",
    "            except IndexError:\n",
    "                beds = None\n",
    "        \n",
    "        # baths\n",
    "        try:\n",
    "            baths = ps[2].string.split('x')[0]\n",
    "        except IndexError:\n",
    "            try: \n",
    "                baths = ps[2]\n",
    "            except IndexError:\n",
    "                baths = None\n",
    "\n",
    "        # price\n",
    "        price = soup.findAll(\"article\")[1].findAll(\"span\")[0].string\n",
    "        try: \n",
    "            price = int(''.join(i for i in price if i.isdigit()))\n",
    "        except ValueError:\n",
    "            price = price \n",
    "\n",
    "        # all together\n",
    "        info = {\n",
    "            \"type\": type,\n",
    "            \"beds\": beds,\n",
    "            \"baths\": baths,\n",
    "            \"sqm\": square_metres,\n",
    "            \"price\": price,\n",
    "            \"url\": property_url}\n",
    "\n",
    "        infos.append(info)\n",
    "\n",
    "    infos = pd.DataFrame(infos)\n",
    "    infos['region'] = region\n",
    "    return infos"
   ]
  },
  {
   "cell_type": "markdown",
   "metadata": {},
   "source": [
    "### Main Loop "
   ]
  },
  {
   "cell_type": "code",
   "execution_count": 6,
   "metadata": {},
   "outputs": [
    {
     "name": "stderr",
     "output_type": "stream",
     "text": [
      "Balham - 1:   0%|          | 0/65 [00:04<?, ?it/s]"
     ]
    }
   ],
   "source": [
    "regions = get_regions()\n",
    "\n",
    "attributes = []\n",
    "for region in (pbar := tqdm(regions)):\n",
    "    id = 0 \n",
    "    while True:\n",
    "        pbar.set_description(f'{region} - {id}')\n",
    "        # try: \n",
    "        id += 1\n",
    "        property_ids = get_property_ids(region, id)\n",
    "        if len(property_ids) == 0:\n",
    "            break\n",
    "        attributes.append(get_attributes(property_ids, region))\n",
    "        # except AttributeError:\n",
    "        #     break \n",
    "    "
   ]
  },
  {
   "cell_type": "code",
   "execution_count": 112,
   "metadata": {},
   "outputs": [
    {
     "name": "stderr",
     "output_type": "stream",
     "text": [
      "/var/folders/qj/6bfpb5dj423_qz_zy21j4rkm0000gn/T/ipykernel_46835/243954846.py:3: FutureWarning: The default value of numeric_only in DataFrameGroupBy.mean is deprecated. In a future version, numeric_only will default to False. Either specify numeric_only or select only columns which should be valid for the function.\n",
      "  df.groupby('region').mean()\n"
     ]
    },
    {
     "data": {
      "text/html": [
       "<div>\n",
       "<style scoped>\n",
       "    .dataframe tbody tr th:only-of-type {\n",
       "        vertical-align: middle;\n",
       "    }\n",
       "\n",
       "    .dataframe tbody tr th {\n",
       "        vertical-align: top;\n",
       "    }\n",
       "\n",
       "    .dataframe thead th {\n",
       "        text-align: right;\n",
       "    }\n",
       "</style>\n",
       "<table border=\"1\" class=\"dataframe\">\n",
       "  <thead>\n",
       "    <tr style=\"text-align: right;\">\n",
       "      <th></th>\n",
       "      <th>sqm</th>\n",
       "      <th>price</th>\n",
       "    </tr>\n",
       "    <tr>\n",
       "      <th>region</th>\n",
       "      <th></th>\n",
       "      <th></th>\n",
       "    </tr>\n",
       "  </thead>\n",
       "  <tbody>\n",
       "    <tr>\n",
       "      <th>Balham</th>\n",
       "      <td>120.782609</td>\n",
       "      <td>640297.473310</td>\n",
       "    </tr>\n",
       "    <tr>\n",
       "      <th>Barking</th>\n",
       "      <td>70.880000</td>\n",
       "      <td>332273.071429</td>\n",
       "    </tr>\n",
       "  </tbody>\n",
       "</table>\n",
       "</div>"
      ],
      "text/plain": [
       "                sqm          price\n",
       "region                            \n",
       "Balham   120.782609  640297.473310\n",
       "Barking   70.880000  332273.071429"
      ]
     },
     "execution_count": 112,
     "metadata": {},
     "output_type": "execute_result"
    }
   ],
   "source": [
    "df = pd.concat(attributes)\n",
    "df = df.loc[df.price != 'Coming Soon']\n",
    "df.groupby('region').mean()"
   ]
  },
  {
   "cell_type": "code",
   "execution_count": 94,
   "metadata": {},
   "outputs": [],
   "source": [
    "ids = get_property_ids(region, 9"
   ]
  },
  {
   "cell_type": "code",
   "execution_count": 97,
   "metadata": {},
   "outputs": [],
   "source": [
    "ids = [i for i in ['0', '0', '0'] if i != '0']"
   ]
  },
  {
   "cell_type": "code",
   "execution_count": 98,
   "metadata": {},
   "outputs": [
    {
     "data": {
      "text/plain": [
       "[]"
      ]
     },
     "execution_count": 98,
     "metadata": {},
     "output_type": "execute_result"
    }
   ],
   "source": [
    "property_url = \n",
    "soup = url_to_html(property_url)\n",
    "info_reel = soup.find(\"div\", {\"data-test\": \"infoReel\"})\n",
    "ps = info_reel.findAll(\"p\")\n",
    "\n",
    "# type\n",
    "type = ps[0].string\n",
    "\n",
    "# square metres \n",
    "if len(ps) == 6:\n",
    "    try: \n",
    "        square_metres = int(ps[4].string.split(\"(\")[1].split(\" sq\")[0])\n",
    "    except ValueError:\n",
    "        try:\n",
    "            square_metres = ps[4].string.split(\"(\")[1].split(\" sq\")[0]\n",
    "            square_metres = square_metres = int(''.join(i for i in square_metres if i.isdigit()))\n",
    "        except ValueError: \n",
    "            square_metres = (\n",
    "                (int(ps[4].split(\"(\")[1].split(\" sq\")[0].split('-')[0])\n",
    "                + int(ps[4].split(\"(\")[1].split(\" sq\")[0].split('-')[1])\n",
    "                ) / 2\n",
    "            )\n",
    "else:\n",
    "    square_metres = None\n",
    "\n",
    "# beds\n",
    "try: \n",
    "    beds = ps[1].string.split('x')[0]\n",
    "except IndexError:\n",
    "    try: \n",
    "        beds = ps[1]\n",
    "    except IndexError:\n",
    "        beds = None\n",
    "\n",
    "# baths\n",
    "try:\n",
    "    baths = ps[2].string.split('x')[0]\n",
    "except IndexError:\n",
    "    try: \n",
    "        baths = ps[2]\n",
    "    except IndexError:\n",
    "        baths = None\n",
    "\n",
    "# price\n",
    "price = soup.findAll(\"article\")[1].findAll(\"span\")[0].string\n",
    "try: \n",
    "    price = int(''.join(i for i in price if i.isdigit()))\n",
    "except ValueError:\n",
    "    price = price \n",
    "\n",
    "# all together\n",
    "info = {\n",
    "    \"type\": type,\n",
    "    \"beds\": beds,\n",
    "    \"baths\": baths,\n",
    "    \"sqm\": square_metres,\n",
    "    \"price\": price,\n",
    "    \"url\": property_url}\n",
    "info"
   ]
  },
  {
   "cell_type": "code",
   "execution_count": 10,
   "metadata": {},
   "outputs": [
    {
     "data": {
      "text/plain": [
       "['129963470',\n",
       " '112856762',\n",
       " '129024068',\n",
       " '129960041',\n",
       " '129956393',\n",
       " '129829466',\n",
       " '129954218',\n",
       " '129953315',\n",
       " '123336371',\n",
       " '129951641',\n",
       " '129948155',\n",
       " '129945446',\n",
       " '129944792',\n",
       " '129942827',\n",
       " '129942767',\n",
       " '129942650',\n",
       " '129940169',\n",
       " '129939344',\n",
       " '129938705',\n",
       " '129806750',\n",
       " '129931502',\n",
       " '129931472',\n",
       " '129930626',\n",
       " '129928619']"
      ]
     },
     "execution_count": 10,
     "metadata": {},
     "output_type": "execute_result"
    }
   ],
   "source": [
    "get_property_ids('Chelsea', 1)"
   ]
  },
  {
   "cell_type": "code",
   "execution_count": null,
   "metadata": {},
   "outputs": [],
   "source": []
  }
 ],
 "metadata": {
  "kernelspec": {
   "display_name": "Python 3.10.6 ('venv': venv)",
   "language": "python",
   "name": "python3"
  },
  "language_info": {
   "codemirror_mode": {
    "name": "ipython",
    "version": 3
   },
   "file_extension": ".py",
   "mimetype": "text/x-python",
   "name": "python",
   "nbconvert_exporter": "python",
   "pygments_lexer": "ipython3",
   "version": "3.10.6"
  },
  "orig_nbformat": 4,
  "vscode": {
   "interpreter": {
    "hash": "baea76125cd3690263eb1a9aa7e26b8f8d75b56a978bcd940bc756f015fe8c41"
   }
  }
 },
 "nbformat": 4,
 "nbformat_minor": 2
}
