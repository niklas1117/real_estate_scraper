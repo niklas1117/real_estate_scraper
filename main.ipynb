{
 "cells": [
  {
   "cell_type": "code",
   "execution_count": 1,
   "metadata": {},
   "outputs": [],
   "source": [
    "from rightmove_scraper import RightmoveScraper, get_regions\n",
    "import pandas as pd"
   ]
  },
  {
   "cell_type": "code",
   "execution_count": 2,
   "metadata": {},
   "outputs": [
    {
     "name": "stderr",
     "output_type": "stream",
     "text": [
      "Balham:   0%|          | 0/65 [00:00<?, ?it/s]"
     ]
    }
   ],
   "source": [
    "regions = get_regions()\n",
    "\n",
    "rms = RightmoveScraper(True)\n",
    "buy_df = rms.scrape_regions(regions, save=True, verbose=True)\n",
    "\n",
    "rms = RightmoveScraper(False)\n",
    "rent_df = rms.scrape_regions(regions, save=True, verbose=True)\n"
   ]
  },
  {
   "cell_type": "code",
   "execution_count": 113,
   "metadata": {},
   "outputs": [
    {
     "name": "stderr",
     "output_type": "stream",
     "text": [
      "/var/folders/qj/6bfpb5dj423_qz_zy21j4rkm0000gn/T/ipykernel_27065/503491351.py:3: FutureWarning: The default value of numeric_only in DataFrameGroupBy.mean is deprecated. In a future version, numeric_only will default to False. Either specify numeric_only or select only columns which should be valid for the function.\n",
      "  group = df.groupby('MODE').mean()\n"
     ]
    }
   ],
   "source": [
    "df = pd.concat([buy_df, rent_df]).drop('LINK', axis=1)\n",
    "df.set_index('ID', inplace=True)\n",
    "group = df.groupby('MODE').mean()"
   ]
  },
  {
   "cell_type": "code",
   "execution_count": 82,
   "metadata": {},
   "outputs": [
    {
     "data": {
      "text/plain": [
       "BEDROOMS     0.960150\n",
       "BATHROOMS    0.932697\n",
       "PRICE        0.003264\n",
       "dtype: float64"
      ]
     },
     "execution_count": 82,
     "metadata": {},
     "output_type": "execute_result"
    }
   ],
   "source": [
    "group.loc['RENT'] / group.loc['BUY'] "
   ]
  },
  {
   "cell_type": "code",
   "execution_count": 116,
   "metadata": {},
   "outputs": [
    {
     "name": "stderr",
     "output_type": "stream",
     "text": [
      "/var/folders/qj/6bfpb5dj423_qz_zy21j4rkm0000gn/T/ipykernel_27065/1621188667.py:1: FutureWarning: The default value of numeric_only in DataFrameGroupBy.mean is deprecated. In a future version, numeric_only will default to False. Either specify numeric_only or select only columns which should be valid for the function.\n",
      "  avg = df.groupby(['BEDROOMS', 'MODE', 'PROPERTY TYPE']).mean()\n",
      "/var/folders/qj/6bfpb5dj423_qz_zy21j4rkm0000gn/T/ipykernel_27065/1621188667.py:2: FutureWarning: The default value of numeric_only in DataFrameGroupBy.median is deprecated. In a future version, numeric_only will default to False. Either specify numeric_only or select only columns which should be valid for the function.\n",
      "  median = df.groupby(['BEDROOMS', 'MODE']).median()\n"
     ]
    },
    {
     "ename": "ValueError",
     "evalue": "Length of names must match number of levels in MultiIndex.",
     "output_type": "error",
     "traceback": [
      "\u001b[0;31m---------------------------------------------------------------------------\u001b[0m",
      "\u001b[0;31mValueError\u001b[0m                                Traceback (most recent call last)",
      "Cell \u001b[0;32mIn[116], line 5\u001b[0m\n\u001b[1;32m      2\u001b[0m median \u001b[39m=\u001b[39m df\u001b[39m.\u001b[39mgroupby([\u001b[39m'\u001b[39m\u001b[39mBEDROOMS\u001b[39m\u001b[39m'\u001b[39m, \u001b[39m'\u001b[39m\u001b[39mMODE\u001b[39m\u001b[39m'\u001b[39m])\u001b[39m.\u001b[39mmedian()\n\u001b[1;32m      4\u001b[0m count \u001b[39m=\u001b[39m df\u001b[39m.\u001b[39mgroupby([\u001b[39m'\u001b[39m\u001b[39mBEDROOMS\u001b[39m\u001b[39m'\u001b[39m, \u001b[39m'\u001b[39m\u001b[39mMODE\u001b[39m\u001b[39m'\u001b[39m])\u001b[39m.\u001b[39mcount()[\u001b[39m'\u001b[39m\u001b[39mPROPERTY TYPE\u001b[39m\u001b[39m'\u001b[39m]\n\u001b[0;32m----> 5\u001b[0m grouped \u001b[39m=\u001b[39m pd\u001b[39m.\u001b[39;49mconcat([avg, median ,count], keys\u001b[39m=\u001b[39;49m[\u001b[39m'\u001b[39;49m\u001b[39mavg\u001b[39;49m\u001b[39m'\u001b[39;49m, \u001b[39m'\u001b[39;49m\u001b[39mmedian\u001b[39;49m\u001b[39m'\u001b[39;49m, \u001b[39m'\u001b[39;49m\u001b[39mcount\u001b[39;49m\u001b[39m'\u001b[39;49m], axis\u001b[39m=\u001b[39;49m\u001b[39m1\u001b[39;49m)\n",
      "File \u001b[0;32m~/Desktop/coding/real_estate/venv/lib/python3.10/site-packages/pandas/util/_decorators.py:331\u001b[0m, in \u001b[0;36mdeprecate_nonkeyword_arguments.<locals>.decorate.<locals>.wrapper\u001b[0;34m(*args, **kwargs)\u001b[0m\n\u001b[1;32m    325\u001b[0m \u001b[39mif\u001b[39;00m \u001b[39mlen\u001b[39m(args) \u001b[39m>\u001b[39m num_allow_args:\n\u001b[1;32m    326\u001b[0m     warnings\u001b[39m.\u001b[39mwarn(\n\u001b[1;32m    327\u001b[0m         msg\u001b[39m.\u001b[39mformat(arguments\u001b[39m=\u001b[39m_format_argument_list(allow_args)),\n\u001b[1;32m    328\u001b[0m         \u001b[39mFutureWarning\u001b[39;00m,\n\u001b[1;32m    329\u001b[0m         stacklevel\u001b[39m=\u001b[39mfind_stack_level(),\n\u001b[1;32m    330\u001b[0m     )\n\u001b[0;32m--> 331\u001b[0m \u001b[39mreturn\u001b[39;00m func(\u001b[39m*\u001b[39;49margs, \u001b[39m*\u001b[39;49m\u001b[39m*\u001b[39;49mkwargs)\n",
      "File \u001b[0;32m~/Desktop/coding/real_estate/venv/lib/python3.10/site-packages/pandas/core/reshape/concat.py:368\u001b[0m, in \u001b[0;36mconcat\u001b[0;34m(objs, axis, join, ignore_index, keys, levels, names, verify_integrity, sort, copy)\u001b[0m\n\u001b[1;32m    146\u001b[0m \u001b[39m@deprecate_nonkeyword_arguments\u001b[39m(version\u001b[39m=\u001b[39m\u001b[39mNone\u001b[39;00m, allowed_args\u001b[39m=\u001b[39m[\u001b[39m\"\u001b[39m\u001b[39mobjs\u001b[39m\u001b[39m\"\u001b[39m])\n\u001b[1;32m    147\u001b[0m \u001b[39mdef\u001b[39;00m \u001b[39mconcat\u001b[39m(\n\u001b[1;32m    148\u001b[0m     objs: Iterable[NDFrame] \u001b[39m|\u001b[39m Mapping[HashableT, NDFrame],\n\u001b[0;32m   (...)\u001b[0m\n\u001b[1;32m    157\u001b[0m     copy: \u001b[39mbool\u001b[39m \u001b[39m=\u001b[39m \u001b[39mTrue\u001b[39;00m,\n\u001b[1;32m    158\u001b[0m ) \u001b[39m-\u001b[39m\u001b[39m>\u001b[39m DataFrame \u001b[39m|\u001b[39m Series:\n\u001b[1;32m    159\u001b[0m     \u001b[39m\"\"\"\u001b[39;00m\n\u001b[1;32m    160\u001b[0m \u001b[39m    Concatenate pandas objects along a particular axis.\u001b[39;00m\n\u001b[1;32m    161\u001b[0m \n\u001b[0;32m   (...)\u001b[0m\n\u001b[1;32m    366\u001b[0m \u001b[39m    1   3   4\u001b[39;00m\n\u001b[1;32m    367\u001b[0m \u001b[39m    \"\"\"\u001b[39;00m\n\u001b[0;32m--> 368\u001b[0m     op \u001b[39m=\u001b[39m _Concatenator(\n\u001b[1;32m    369\u001b[0m         objs,\n\u001b[1;32m    370\u001b[0m         axis\u001b[39m=\u001b[39;49maxis,\n\u001b[1;32m    371\u001b[0m         ignore_index\u001b[39m=\u001b[39;49mignore_index,\n\u001b[1;32m    372\u001b[0m         join\u001b[39m=\u001b[39;49mjoin,\n\u001b[1;32m    373\u001b[0m         keys\u001b[39m=\u001b[39;49mkeys,\n\u001b[1;32m    374\u001b[0m         levels\u001b[39m=\u001b[39;49mlevels,\n\u001b[1;32m    375\u001b[0m         names\u001b[39m=\u001b[39;49mnames,\n\u001b[1;32m    376\u001b[0m         verify_integrity\u001b[39m=\u001b[39;49mverify_integrity,\n\u001b[1;32m    377\u001b[0m         copy\u001b[39m=\u001b[39;49mcopy,\n\u001b[1;32m    378\u001b[0m         sort\u001b[39m=\u001b[39;49msort,\n\u001b[1;32m    379\u001b[0m     )\n\u001b[1;32m    381\u001b[0m     \u001b[39mreturn\u001b[39;00m op\u001b[39m.\u001b[39mget_result()\n",
      "File \u001b[0;32m~/Desktop/coding/real_estate/venv/lib/python3.10/site-packages/pandas/core/reshape/concat.py:563\u001b[0m, in \u001b[0;36m_Concatenator.__init__\u001b[0;34m(self, objs, axis, join, keys, levels, names, ignore_index, verify_integrity, copy, sort)\u001b[0m\n\u001b[1;32m    560\u001b[0m \u001b[39mself\u001b[39m\u001b[39m.\u001b[39mverify_integrity \u001b[39m=\u001b[39m verify_integrity\n\u001b[1;32m    561\u001b[0m \u001b[39mself\u001b[39m\u001b[39m.\u001b[39mcopy \u001b[39m=\u001b[39m copy\n\u001b[0;32m--> 563\u001b[0m \u001b[39mself\u001b[39m\u001b[39m.\u001b[39mnew_axes \u001b[39m=\u001b[39m \u001b[39mself\u001b[39;49m\u001b[39m.\u001b[39;49m_get_new_axes()\n",
      "File \u001b[0;32m~/Desktop/coding/real_estate/venv/lib/python3.10/site-packages/pandas/core/reshape/concat.py:633\u001b[0m, in \u001b[0;36m_Concatenator._get_new_axes\u001b[0;34m(self)\u001b[0m\n\u001b[1;32m    631\u001b[0m \u001b[39mdef\u001b[39;00m \u001b[39m_get_new_axes\u001b[39m(\u001b[39mself\u001b[39m) \u001b[39m-\u001b[39m\u001b[39m>\u001b[39m \u001b[39mlist\u001b[39m[Index]:\n\u001b[1;32m    632\u001b[0m     ndim \u001b[39m=\u001b[39m \u001b[39mself\u001b[39m\u001b[39m.\u001b[39m_get_result_dim()\n\u001b[0;32m--> 633\u001b[0m     \u001b[39mreturn\u001b[39;00m [\n\u001b[1;32m    634\u001b[0m         \u001b[39mself\u001b[39m\u001b[39m.\u001b[39m_get_concat_axis \u001b[39mif\u001b[39;00m i \u001b[39m==\u001b[39m \u001b[39mself\u001b[39m\u001b[39m.\u001b[39mbm_axis \u001b[39melse\u001b[39;00m \u001b[39mself\u001b[39m\u001b[39m.\u001b[39m_get_comb_axis(i)\n\u001b[1;32m    635\u001b[0m         \u001b[39mfor\u001b[39;00m i \u001b[39min\u001b[39;00m \u001b[39mrange\u001b[39m(ndim)\n\u001b[1;32m    636\u001b[0m     ]\n",
      "File \u001b[0;32m~/Desktop/coding/real_estate/venv/lib/python3.10/site-packages/pandas/core/reshape/concat.py:634\u001b[0m, in \u001b[0;36m<listcomp>\u001b[0;34m(.0)\u001b[0m\n\u001b[1;32m    631\u001b[0m \u001b[39mdef\u001b[39;00m \u001b[39m_get_new_axes\u001b[39m(\u001b[39mself\u001b[39m) \u001b[39m-\u001b[39m\u001b[39m>\u001b[39m \u001b[39mlist\u001b[39m[Index]:\n\u001b[1;32m    632\u001b[0m     ndim \u001b[39m=\u001b[39m \u001b[39mself\u001b[39m\u001b[39m.\u001b[39m_get_result_dim()\n\u001b[1;32m    633\u001b[0m     \u001b[39mreturn\u001b[39;00m [\n\u001b[0;32m--> 634\u001b[0m         \u001b[39mself\u001b[39m\u001b[39m.\u001b[39m_get_concat_axis \u001b[39mif\u001b[39;00m i \u001b[39m==\u001b[39m \u001b[39mself\u001b[39m\u001b[39m.\u001b[39mbm_axis \u001b[39melse\u001b[39;00m \u001b[39mself\u001b[39;49m\u001b[39m.\u001b[39;49m_get_comb_axis(i)\n\u001b[1;32m    635\u001b[0m         \u001b[39mfor\u001b[39;00m i \u001b[39min\u001b[39;00m \u001b[39mrange\u001b[39m(ndim)\n\u001b[1;32m    636\u001b[0m     ]\n",
      "File \u001b[0;32m~/Desktop/coding/real_estate/venv/lib/python3.10/site-packages/pandas/core/reshape/concat.py:640\u001b[0m, in \u001b[0;36m_Concatenator._get_comb_axis\u001b[0;34m(self, i)\u001b[0m\n\u001b[1;32m    638\u001b[0m \u001b[39mdef\u001b[39;00m \u001b[39m_get_comb_axis\u001b[39m(\u001b[39mself\u001b[39m, i: \u001b[39mint\u001b[39m) \u001b[39m-\u001b[39m\u001b[39m>\u001b[39m Index:\n\u001b[1;32m    639\u001b[0m     data_axis \u001b[39m=\u001b[39m \u001b[39mself\u001b[39m\u001b[39m.\u001b[39mobjs[\u001b[39m0\u001b[39m]\u001b[39m.\u001b[39m_get_block_manager_axis(i)\n\u001b[0;32m--> 640\u001b[0m     \u001b[39mreturn\u001b[39;00m get_objs_combined_axis(\n\u001b[1;32m    641\u001b[0m         \u001b[39mself\u001b[39;49m\u001b[39m.\u001b[39;49mobjs,\n\u001b[1;32m    642\u001b[0m         axis\u001b[39m=\u001b[39;49mdata_axis,\n\u001b[1;32m    643\u001b[0m         intersect\u001b[39m=\u001b[39;49m\u001b[39mself\u001b[39;49m\u001b[39m.\u001b[39;49mintersect,\n\u001b[1;32m    644\u001b[0m         sort\u001b[39m=\u001b[39;49m\u001b[39mself\u001b[39;49m\u001b[39m.\u001b[39;49msort,\n\u001b[1;32m    645\u001b[0m         copy\u001b[39m=\u001b[39;49m\u001b[39mself\u001b[39;49m\u001b[39m.\u001b[39;49mcopy,\n\u001b[1;32m    646\u001b[0m     )\n",
      "File \u001b[0;32m~/Desktop/coding/real_estate/venv/lib/python3.10/site-packages/pandas/core/indexes/api.py:105\u001b[0m, in \u001b[0;36mget_objs_combined_axis\u001b[0;34m(objs, intersect, axis, sort, copy)\u001b[0m\n\u001b[1;32m     81\u001b[0m \u001b[39m\"\"\"\u001b[39;00m\n\u001b[1;32m     82\u001b[0m \u001b[39mExtract combined index: return intersection or union (depending on the\u001b[39;00m\n\u001b[1;32m     83\u001b[0m \u001b[39mvalue of \"intersect\") of indexes on given axis, or None if all objects\u001b[39;00m\n\u001b[0;32m   (...)\u001b[0m\n\u001b[1;32m    102\u001b[0m \u001b[39mIndex\u001b[39;00m\n\u001b[1;32m    103\u001b[0m \u001b[39m\"\"\"\u001b[39;00m\n\u001b[1;32m    104\u001b[0m obs_idxes \u001b[39m=\u001b[39m [obj\u001b[39m.\u001b[39m_get_axis(axis) \u001b[39mfor\u001b[39;00m obj \u001b[39min\u001b[39;00m objs]\n\u001b[0;32m--> 105\u001b[0m \u001b[39mreturn\u001b[39;00m _get_combined_index(obs_idxes, intersect\u001b[39m=\u001b[39;49mintersect, sort\u001b[39m=\u001b[39;49msort, copy\u001b[39m=\u001b[39;49mcopy)\n",
      "File \u001b[0;32m~/Desktop/coding/real_estate/venv/lib/python3.10/site-packages/pandas/core/indexes/api.py:158\u001b[0m, in \u001b[0;36m_get_combined_index\u001b[0;34m(indexes, intersect, sort, copy)\u001b[0m\n\u001b[1;32m    156\u001b[0m         index \u001b[39m=\u001b[39m index\u001b[39m.\u001b[39mintersection(other)\n\u001b[1;32m    157\u001b[0m \u001b[39melse\u001b[39;00m:\n\u001b[0;32m--> 158\u001b[0m     index \u001b[39m=\u001b[39m union_indexes(indexes, sort\u001b[39m=\u001b[39;49m\u001b[39mFalse\u001b[39;49;00m)\n\u001b[1;32m    159\u001b[0m     index \u001b[39m=\u001b[39m ensure_index(index)\n\u001b[1;32m    161\u001b[0m \u001b[39mif\u001b[39;00m sort:\n",
      "File \u001b[0;32m~/Desktop/coding/real_estate/venv/lib/python3.10/site-packages/pandas/core/indexes/api.py:310\u001b[0m, in \u001b[0;36munion_indexes\u001b[0;34m(indexes, sort)\u001b[0m\n\u001b[1;32m    307\u001b[0m         result \u001b[39m=\u001b[39m indexes[\u001b[39m0\u001b[39m]\n\u001b[1;32m    309\u001b[0m     \u001b[39mfor\u001b[39;00m other \u001b[39min\u001b[39;00m indexes[\u001b[39m1\u001b[39m:]:\n\u001b[0;32m--> 310\u001b[0m         result \u001b[39m=\u001b[39m result\u001b[39m.\u001b[39;49munion(other, sort\u001b[39m=\u001b[39;49m\u001b[39mNone\u001b[39;49;00m \u001b[39mif\u001b[39;49;00m sort \u001b[39melse\u001b[39;49;00m \u001b[39mFalse\u001b[39;49;00m)\n\u001b[1;32m    311\u001b[0m     \u001b[39mreturn\u001b[39;00m result\n\u001b[1;32m    313\u001b[0m \u001b[39melif\u001b[39;00m kind \u001b[39m==\u001b[39m \u001b[39m\"\u001b[39m\u001b[39marray\u001b[39m\u001b[39m\"\u001b[39m:\n",
      "File \u001b[0;32m~/Desktop/coding/real_estate/venv/lib/python3.10/site-packages/pandas/core/indexes/base.py:3355\u001b[0m, in \u001b[0;36mIndex.union\u001b[0;34m(self, other, sort)\u001b[0m\n\u001b[1;32m   3352\u001b[0m \u001b[39melif\u001b[39;00m \u001b[39mnot\u001b[39;00m \u001b[39mlen\u001b[39m(\u001b[39mself\u001b[39m):\n\u001b[1;32m   3353\u001b[0m     \u001b[39mreturn\u001b[39;00m other\u001b[39m.\u001b[39m_get_reconciled_name_object(\u001b[39mself\u001b[39m)\n\u001b[0;32m-> 3355\u001b[0m result \u001b[39m=\u001b[39m \u001b[39mself\u001b[39;49m\u001b[39m.\u001b[39;49m_union(other, sort\u001b[39m=\u001b[39;49msort)\n\u001b[1;32m   3357\u001b[0m \u001b[39mreturn\u001b[39;00m \u001b[39mself\u001b[39m\u001b[39m.\u001b[39m_wrap_setop_result(other, result)\n",
      "File \u001b[0;32m~/Desktop/coding/real_estate/venv/lib/python3.10/site-packages/pandas/core/indexes/multi.py:3643\u001b[0m, in \u001b[0;36mMultiIndex._union\u001b[0;34m(self, other, sort)\u001b[0m\n\u001b[1;32m   3640\u001b[0m     rvals \u001b[39m=\u001b[39m other\u001b[39m.\u001b[39m_values\u001b[39m.\u001b[39mastype(\u001b[39mobject\u001b[39m, copy\u001b[39m=\u001b[39m\u001b[39mFalse\u001b[39;00m)\n\u001b[1;32m   3641\u001b[0m     result \u001b[39m=\u001b[39m lib\u001b[39m.\u001b[39mfast_unique_multiple([\u001b[39mself\u001b[39m\u001b[39m.\u001b[39m_values, rvals], sort\u001b[39m=\u001b[39msort)\n\u001b[0;32m-> 3643\u001b[0m \u001b[39mreturn\u001b[39;00m MultiIndex\u001b[39m.\u001b[39;49mfrom_arrays(\u001b[39mzip\u001b[39;49m(\u001b[39m*\u001b[39;49mresult), sortorder\u001b[39m=\u001b[39;49m\u001b[39mNone\u001b[39;49;00m, names\u001b[39m=\u001b[39;49mresult_names)\n",
      "File \u001b[0;32m~/Desktop/coding/real_estate/venv/lib/python3.10/site-packages/pandas/core/indexes/multi.py:493\u001b[0m, in \u001b[0;36mMultiIndex.from_arrays\u001b[0;34m(cls, arrays, sortorder, names)\u001b[0m\n\u001b[1;32m    490\u001b[0m \u001b[39mif\u001b[39;00m names \u001b[39mis\u001b[39;00m lib\u001b[39m.\u001b[39mno_default:\n\u001b[1;32m    491\u001b[0m     names \u001b[39m=\u001b[39m [\u001b[39mgetattr\u001b[39m(arr, \u001b[39m\"\u001b[39m\u001b[39mname\u001b[39m\u001b[39m\"\u001b[39m, \u001b[39mNone\u001b[39;00m) \u001b[39mfor\u001b[39;00m arr \u001b[39min\u001b[39;00m arrays]\n\u001b[0;32m--> 493\u001b[0m \u001b[39mreturn\u001b[39;00m \u001b[39mcls\u001b[39;49m(\n\u001b[1;32m    494\u001b[0m     levels\u001b[39m=\u001b[39;49mlevels,\n\u001b[1;32m    495\u001b[0m     codes\u001b[39m=\u001b[39;49mcodes,\n\u001b[1;32m    496\u001b[0m     sortorder\u001b[39m=\u001b[39;49msortorder,\n\u001b[1;32m    497\u001b[0m     names\u001b[39m=\u001b[39;49mnames,\n\u001b[1;32m    498\u001b[0m     verify_integrity\u001b[39m=\u001b[39;49m\u001b[39mFalse\u001b[39;49;00m,\n\u001b[1;32m    499\u001b[0m )\n",
      "File \u001b[0;32m~/Desktop/coding/real_estate/venv/lib/python3.10/site-packages/pandas/core/indexes/multi.py:334\u001b[0m, in \u001b[0;36mMultiIndex.__new__\u001b[0;34m(cls, levels, codes, sortorder, names, dtype, copy, name, verify_integrity)\u001b[0m\n\u001b[1;32m    331\u001b[0m result\u001b[39m.\u001b[39m_names \u001b[39m=\u001b[39m [\u001b[39mNone\u001b[39;00m] \u001b[39m*\u001b[39m \u001b[39mlen\u001b[39m(levels)\n\u001b[1;32m    332\u001b[0m \u001b[39mif\u001b[39;00m names \u001b[39mis\u001b[39;00m \u001b[39mnot\u001b[39;00m \u001b[39mNone\u001b[39;00m:\n\u001b[1;32m    333\u001b[0m     \u001b[39m# handles name validation\u001b[39;00m\n\u001b[0;32m--> 334\u001b[0m     result\u001b[39m.\u001b[39;49m_set_names(names)\n\u001b[1;32m    336\u001b[0m \u001b[39mif\u001b[39;00m sortorder \u001b[39mis\u001b[39;00m \u001b[39mnot\u001b[39;00m \u001b[39mNone\u001b[39;00m:\n\u001b[1;32m    337\u001b[0m     result\u001b[39m.\u001b[39msortorder \u001b[39m=\u001b[39m \u001b[39mint\u001b[39m(sortorder)\n",
      "File \u001b[0;32m~/Desktop/coding/real_estate/venv/lib/python3.10/site-packages/pandas/core/indexes/multi.py:1474\u001b[0m, in \u001b[0;36mMultiIndex._set_names\u001b[0;34m(self, names, level, validate)\u001b[0m\n\u001b[1;32m   1472\u001b[0m         \u001b[39mraise\u001b[39;00m \u001b[39mValueError\u001b[39;00m(\u001b[39m\"\u001b[39m\u001b[39mLength of names must match length of level.\u001b[39m\u001b[39m\"\u001b[39m)\n\u001b[1;32m   1473\u001b[0m     \u001b[39mif\u001b[39;00m level \u001b[39mis\u001b[39;00m \u001b[39mNone\u001b[39;00m \u001b[39mand\u001b[39;00m \u001b[39mlen\u001b[39m(names) \u001b[39m!=\u001b[39m \u001b[39mself\u001b[39m\u001b[39m.\u001b[39mnlevels:\n\u001b[0;32m-> 1474\u001b[0m         \u001b[39mraise\u001b[39;00m \u001b[39mValueError\u001b[39;00m(\n\u001b[1;32m   1475\u001b[0m             \u001b[39m\"\u001b[39m\u001b[39mLength of names must match number of levels in MultiIndex.\u001b[39m\u001b[39m\"\u001b[39m\n\u001b[1;32m   1476\u001b[0m         )\n\u001b[1;32m   1478\u001b[0m \u001b[39mif\u001b[39;00m level \u001b[39mis\u001b[39;00m \u001b[39mNone\u001b[39;00m:\n\u001b[1;32m   1479\u001b[0m     level \u001b[39m=\u001b[39m \u001b[39mrange\u001b[39m(\u001b[39mself\u001b[39m\u001b[39m.\u001b[39mnlevels)\n",
      "\u001b[0;31mValueError\u001b[0m: Length of names must match number of levels in MultiIndex."
     ]
    }
   ],
   "source": [
    "avg = df.groupby(['BEDROOMS', 'MODE', 'PROPERTY TYPE']).mean()\n",
    "median = df.groupby(['BEDROOMS', 'MODE']).median()\n",
    "\n",
    "count = df.groupby(['BEDROOMS', 'MODE']).count()['PROPERTY TYPE']\n",
    "grouped = pd.concat([avg, median ,count], keys=['avg', 'median', 'count'], axis=1)"
   ]
  },
  {
   "cell_type": "code",
   "execution_count": 119,
   "metadata": {},
   "outputs": [
    {
     "data": {
      "text/html": [
       "<div>\n",
       "<style scoped>\n",
       "    .dataframe tbody tr th:only-of-type {\n",
       "        vertical-align: middle;\n",
       "    }\n",
       "\n",
       "    .dataframe tbody tr th {\n",
       "        vertical-align: top;\n",
       "    }\n",
       "\n",
       "    .dataframe thead th {\n",
       "        text-align: right;\n",
       "    }\n",
       "</style>\n",
       "<table border=\"1\" class=\"dataframe\">\n",
       "  <thead>\n",
       "    <tr style=\"text-align: right;\">\n",
       "      <th></th>\n",
       "      <th></th>\n",
       "      <th></th>\n",
       "      <th>BATHROOMS</th>\n",
       "      <th>PRICE</th>\n",
       "    </tr>\n",
       "    <tr>\n",
       "      <th>BEDROOMS</th>\n",
       "      <th>MODE</th>\n",
       "      <th>PROPERTY TYPE</th>\n",
       "      <th></th>\n",
       "      <th></th>\n",
       "    </tr>\n",
       "  </thead>\n",
       "  <tbody>\n",
       "    <tr>\n",
       "      <th rowspan=\"11\" valign=\"top\">1.0</th>\n",
       "      <th rowspan=\"6\" valign=\"top\">BUY</th>\n",
       "      <th>Apartment</th>\n",
       "      <td>1.00</td>\n",
       "      <td>931179.01</td>\n",
       "    </tr>\n",
       "    <tr>\n",
       "      <th>Detached</th>\n",
       "      <td>1.00</td>\n",
       "      <td>1200000.00</td>\n",
       "    </tr>\n",
       "    <tr>\n",
       "      <th>Duplex</th>\n",
       "      <td>1.00</td>\n",
       "      <td>1000000.00</td>\n",
       "    </tr>\n",
       "    <tr>\n",
       "      <th>Flat</th>\n",
       "      <td>1.00</td>\n",
       "      <td>830952.54</td>\n",
       "    </tr>\n",
       "    <tr>\n",
       "      <th>Ground Flat</th>\n",
       "      <td>1.00</td>\n",
       "      <td>725000.00</td>\n",
       "    </tr>\n",
       "    <tr>\n",
       "      <th>Maisonette</th>\n",
       "      <td>1.00</td>\n",
       "      <td>712500.00</td>\n",
       "    </tr>\n",
       "    <tr>\n",
       "      <th rowspan=\"5\" valign=\"top\">RENT</th>\n",
       "      <th>Apartment</th>\n",
       "      <td>1.00</td>\n",
       "      <td>3118.15</td>\n",
       "    </tr>\n",
       "    <tr>\n",
       "      <th>Block of Apartments</th>\n",
       "      <td>1.00</td>\n",
       "      <td>3033.00</td>\n",
       "    </tr>\n",
       "    <tr>\n",
       "      <th>Detached</th>\n",
       "      <td>1.00</td>\n",
       "      <td>3142.00</td>\n",
       "    </tr>\n",
       "    <tr>\n",
       "      <th>Flat</th>\n",
       "      <td>1.06</td>\n",
       "      <td>3386.77</td>\n",
       "    </tr>\n",
       "    <tr>\n",
       "      <th>House Share</th>\n",
       "      <td>1.00</td>\n",
       "      <td>1473.00</td>\n",
       "    </tr>\n",
       "  </tbody>\n",
       "</table>\n",
       "</div>"
      ],
      "text/plain": [
       "                                   BATHROOMS       PRICE\n",
       "BEDROOMS MODE PROPERTY TYPE                             \n",
       "1.0      BUY  Apartment                 1.00   931179.01\n",
       "              Detached                  1.00  1200000.00\n",
       "              Duplex                    1.00  1000000.00\n",
       "              Flat                      1.00   830952.54\n",
       "              Ground Flat               1.00   725000.00\n",
       "              Maisonette                1.00   712500.00\n",
       "         RENT Apartment                 1.00     3118.15\n",
       "              Block of Apartments       1.00     3033.00\n",
       "              Detached                  1.00     3142.00\n",
       "              Flat                      1.06     3386.77\n",
       "              House Share               1.00     1473.00"
      ]
     },
     "execution_count": 119,
     "metadata": {},
     "output_type": "execute_result"
    }
   ],
   "source": [
    "avg[avg.index.get_level_values('BEDROOMS')==1].round(2)"
   ]
  },
  {
   "cell_type": "code",
   "execution_count": 120,
   "metadata": {},
   "outputs": [
    {
     "data": {
      "text/plain": [
       "0.040181318090492614"
      ]
     },
     "execution_count": 120,
     "metadata": {},
     "output_type": "execute_result"
    }
   ],
   "source": [
    "(3118*12)/931179.01 "
   ]
  },
  {
   "cell_type": "code",
   "execution_count": 84,
   "metadata": {},
   "outputs": [
    {
     "data": {
      "text/plain": [
       "MultiIndex([( 1.0,  'BUY'),\n",
       "            ( 1.0, 'RENT'),\n",
       "            ( 2.0,  'BUY'),\n",
       "            ( 2.0, 'RENT'),\n",
       "            ( 3.0,  'BUY'),\n",
       "            ( 3.0, 'RENT'),\n",
       "            ( 4.0,  'BUY'),\n",
       "            ( 4.0, 'RENT'),\n",
       "            ( 5.0,  'BUY'),\n",
       "            ( 5.0, 'RENT'),\n",
       "            ( 6.0,  'BUY'),\n",
       "            ( 6.0, 'RENT'),\n",
       "            ( 7.0,  'BUY'),\n",
       "            ( 7.0, 'RENT'),\n",
       "            ( 8.0,  'BUY'),\n",
       "            ( 8.0, 'RENT'),\n",
       "            ( 9.0,  'BUY'),\n",
       "            (10.0,  'BUY'),\n",
       "            (13.0,  'BUY')],\n",
       "           names=['BEDROOMS', 'MODE'])"
      ]
     },
     "execution_count": 84,
     "metadata": {},
     "output_type": "execute_result"
    }
   ],
   "source": [
    "grouped.index "
   ]
  },
  {
   "cell_type": "code",
   "execution_count": 85,
   "metadata": {},
   "outputs": [
    {
     "data": {
      "text/html": [
       "<div>\n",
       "<style scoped>\n",
       "    .dataframe tbody tr th:only-of-type {\n",
       "        vertical-align: middle;\n",
       "    }\n",
       "\n",
       "    .dataframe tbody tr th {\n",
       "        vertical-align: top;\n",
       "    }\n",
       "\n",
       "    .dataframe thead tr th {\n",
       "        text-align: left;\n",
       "    }\n",
       "\n",
       "    .dataframe thead tr:last-of-type th {\n",
       "        text-align: right;\n",
       "    }\n",
       "</style>\n",
       "<table border=\"1\" class=\"dataframe\">\n",
       "  <thead>\n",
       "    <tr>\n",
       "      <th></th>\n",
       "      <th></th>\n",
       "      <th colspan=\"2\" halign=\"left\">avg</th>\n",
       "      <th colspan=\"2\" halign=\"left\">median</th>\n",
       "      <th>count</th>\n",
       "    </tr>\n",
       "    <tr>\n",
       "      <th></th>\n",
       "      <th></th>\n",
       "      <th>BATHROOMS</th>\n",
       "      <th>PRICE</th>\n",
       "      <th>BATHROOMS</th>\n",
       "      <th>PRICE</th>\n",
       "      <th>PROPERTY TYPE</th>\n",
       "    </tr>\n",
       "    <tr>\n",
       "      <th>BEDROOMS</th>\n",
       "      <th>MODE</th>\n",
       "      <th></th>\n",
       "      <th></th>\n",
       "      <th></th>\n",
       "      <th></th>\n",
       "      <th></th>\n",
       "    </tr>\n",
       "  </thead>\n",
       "  <tbody>\n",
       "    <tr>\n",
       "      <th>1.0</th>\n",
       "      <th>BUY</th>\n",
       "      <td>1.0</td>\n",
       "      <td>863059.0</td>\n",
       "      <td>1.0</td>\n",
       "      <td>750000.0</td>\n",
       "      <td>210</td>\n",
       "    </tr>\n",
       "    <tr>\n",
       "      <th>2.0</th>\n",
       "      <th>BUY</th>\n",
       "      <td>2.0</td>\n",
       "      <td>1583403.0</td>\n",
       "      <td>2.0</td>\n",
       "      <td>1300000.0</td>\n",
       "      <td>382</td>\n",
       "    </tr>\n",
       "    <tr>\n",
       "      <th>3.0</th>\n",
       "      <th>BUY</th>\n",
       "      <td>2.0</td>\n",
       "      <td>2972008.0</td>\n",
       "      <td>2.0</td>\n",
       "      <td>2350000.0</td>\n",
       "      <td>233</td>\n",
       "    </tr>\n",
       "    <tr>\n",
       "      <th>4.0</th>\n",
       "      <th>BUY</th>\n",
       "      <td>3.0</td>\n",
       "      <td>4677418.0</td>\n",
       "      <td>3.0</td>\n",
       "      <td>3995000.0</td>\n",
       "      <td>91</td>\n",
       "    </tr>\n",
       "    <tr>\n",
       "      <th>5.0</th>\n",
       "      <th>BUY</th>\n",
       "      <td>4.0</td>\n",
       "      <td>9219457.0</td>\n",
       "      <td>4.0</td>\n",
       "      <td>6500000.0</td>\n",
       "      <td>46</td>\n",
       "    </tr>\n",
       "    <tr>\n",
       "      <th>6.0</th>\n",
       "      <th>BUY</th>\n",
       "      <td>5.0</td>\n",
       "      <td>8403462.0</td>\n",
       "      <td>6.0</td>\n",
       "      <td>7500000.0</td>\n",
       "      <td>13</td>\n",
       "    </tr>\n",
       "    <tr>\n",
       "      <th>7.0</th>\n",
       "      <th>BUY</th>\n",
       "      <td>6.0</td>\n",
       "      <td>16920000.0</td>\n",
       "      <td>6.0</td>\n",
       "      <td>18500000.0</td>\n",
       "      <td>5</td>\n",
       "    </tr>\n",
       "    <tr>\n",
       "      <th>8.0</th>\n",
       "      <th>BUY</th>\n",
       "      <td>6.0</td>\n",
       "      <td>11833333.0</td>\n",
       "      <td>6.0</td>\n",
       "      <td>11000000.0</td>\n",
       "      <td>3</td>\n",
       "    </tr>\n",
       "    <tr>\n",
       "      <th>9.0</th>\n",
       "      <th>BUY</th>\n",
       "      <td>6.0</td>\n",
       "      <td>8925000.0</td>\n",
       "      <td>6.0</td>\n",
       "      <td>8925000.0</td>\n",
       "      <td>2</td>\n",
       "    </tr>\n",
       "    <tr>\n",
       "      <th>10.0</th>\n",
       "      <th>BUY</th>\n",
       "      <td>10.0</td>\n",
       "      <td>6950000.0</td>\n",
       "      <td>10.0</td>\n",
       "      <td>6950000.0</td>\n",
       "      <td>1</td>\n",
       "    </tr>\n",
       "    <tr>\n",
       "      <th>13.0</th>\n",
       "      <th>BUY</th>\n",
       "      <td>NaN</td>\n",
       "      <td>9950000.0</td>\n",
       "      <td>NaN</td>\n",
       "      <td>9950000.0</td>\n",
       "      <td>1</td>\n",
       "    </tr>\n",
       "  </tbody>\n",
       "</table>\n",
       "</div>"
      ],
      "text/plain": [
       "                    avg                median                     count\n",
       "              BATHROOMS       PRICE BATHROOMS       PRICE PROPERTY TYPE\n",
       "BEDROOMS MODE                                                          \n",
       "1.0      BUY        1.0    863059.0       1.0    750000.0           210\n",
       "2.0      BUY        2.0   1583403.0       2.0   1300000.0           382\n",
       "3.0      BUY        2.0   2972008.0       2.0   2350000.0           233\n",
       "4.0      BUY        3.0   4677418.0       3.0   3995000.0            91\n",
       "5.0      BUY        4.0   9219457.0       4.0   6500000.0            46\n",
       "6.0      BUY        5.0   8403462.0       6.0   7500000.0            13\n",
       "7.0      BUY        6.0  16920000.0       6.0  18500000.0             5\n",
       "8.0      BUY        6.0  11833333.0       6.0  11000000.0             3\n",
       "9.0      BUY        6.0   8925000.0       6.0   8925000.0             2\n",
       "10.0     BUY       10.0   6950000.0      10.0   6950000.0             1\n",
       "13.0     BUY        NaN   9950000.0       NaN   9950000.0             1"
      ]
     },
     "execution_count": 85,
     "metadata": {},
     "output_type": "execute_result"
    }
   ],
   "source": [
    "grouped.iloc[grouped.index.get_level_values('MODE') == 'BUY'].round()"
   ]
  },
  {
   "cell_type": "code",
   "execution_count": 110,
   "metadata": {},
   "outputs": [
    {
     "data": {
      "text/plain": [
       "0    0.045335\n",
       "1    0.042139\n",
       "2    0.046278\n",
       "3    0.026874\n",
       "4    0.026642\n",
       "5    0.069809\n",
       "6    0.041490\n",
       "7    0.132710\n",
       "Name: PRICE, dtype: float64"
      ]
     },
     "execution_count": 110,
     "metadata": {},
     "output_type": "execute_result"
    }
   ],
   "source": [
    "rent_ps = grouped.iloc[grouped.index.get_level_values('MODE') == 'RENT'].round(2)['avg']['PRICE']*12 \n",
    "sales_ps = grouped.iloc[grouped.index.get_level_values('MODE') == 'BUY'].round(2)['avg']['PRICE']\n",
    "rent_ps.reset_index(drop=True) / sales_ps.iloc[:8].reset_index(drop=True)"
   ]
  },
  {
   "cell_type": "code",
   "execution_count": 111,
   "metadata": {},
   "outputs": [
    {
     "data": {
      "text/plain": [
       "0    0.048528\n",
       "1    0.042000\n",
       "2    0.045957\n",
       "3    0.028635\n",
       "4    0.031961\n",
       "5    0.027200\n",
       "6    0.039352\n",
       "7    0.094309\n",
       "Name: PRICE, dtype: float64"
      ]
     },
     "execution_count": 111,
     "metadata": {},
     "output_type": "execute_result"
    }
   ],
   "source": [
    "rent_ps = grouped.iloc[grouped.index.get_level_values('MODE') == 'RENT'].round(2)['median']['PRICE']*12 \n",
    "sales_ps = grouped.iloc[grouped.index.get_level_values('MODE') == 'BUY'].round(2)['median']['PRICE']\n",
    "rent_ps.reset_index(drop=True) / sales_ps.iloc[:8].reset_index(drop=True)"
   ]
  }
 ],
 "metadata": {
  "kernelspec": {
   "display_name": "Python 3.10.6 ('venv': venv)",
   "language": "python",
   "name": "python3"
  },
  "language_info": {
   "codemirror_mode": {
    "name": "ipython",
    "version": 3
   },
   "file_extension": ".py",
   "mimetype": "text/x-python",
   "name": "python",
   "nbconvert_exporter": "python",
   "pygments_lexer": "ipython3",
   "version": "3.10.6"
  },
  "orig_nbformat": 4,
  "vscode": {
   "interpreter": {
    "hash": "baea76125cd3690263eb1a9aa7e26b8f8d75b56a978bcd940bc756f015fe8c41"
   }
  }
 },
 "nbformat": 4,
 "nbformat_minor": 2
}
